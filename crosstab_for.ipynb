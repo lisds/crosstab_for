{
 "cells": [
  {
   "cell_type": "markdown",
   "id": "3309fab5",
   "metadata": {},
   "source": [
    "# Crosstabulation, but more general"
   ]
  },
  {
   "cell_type": "code",
   "execution_count": null,
   "id": "40295fd8",
   "metadata": {},
   "outputs": [],
   "source": [
    "# Don't change this cell; just run it.\n",
    "import numpy as np  # The array library.\n",
    "\n",
    "import pandas as pd\n",
    "# Safe setting for Pandas.  Needs Pandas version >= 1.5.\n",
    "pd.set_option('mode.copy_on_write', True)\n",
    "\n",
    "# The OKpy testing system.\n",
    "from client.api.notebook import Notebook\n",
    "ok = Notebook('crosstab_for.ok')"
   ]
  },
  {
   "cell_type": "markdown",
   "id": "e8841e33",
   "metadata": {},
   "source": [
    "## A more general form\n",
    "\n",
    "The challenge is to write a general cell that will go from a Counts DataFrame,\n",
    "to an Observations DataFrame.\n",
    "\n",
    "Here's our example Counts DataFrame."
   ]
  },
  {
   "cell_type": "code",
   "execution_count": null,
   "id": "f964132e",
   "metadata": {},
   "outputs": [],
   "source": [
    "bystander_tab = pd.DataFrame([[64, 165],\n",
    "                              [7, 44]],\n",
    "                             columns=['bystander', 'rescuer'],\n",
    "                             index=['No', 'Yes'])\n",
    "bystander_tab"
   ]
  },
  {
   "cell_type": "markdown",
   "id": "09c2fef0",
   "metadata": {},
   "source": [
    "This is a cross-tabulation for which the raw material was an *observations*\n",
    "table / DataFrame.  That observations table had one row per person, two\n",
    "columns, where the first column has \"Yes\" or \"No\" for whether that person was a\n",
    "member of a political party, and the second has \"bystander\" or \"rescuer\".\n",
    "\n",
    "Here is the long-hand version of that, from the \"noble_politics\" page:"
   ]
  },
  {
   "cell_type": "code",
   "execution_count": null,
   "id": "e521ed5c",
   "metadata": {},
   "outputs": [],
   "source": [
    "row_lists = (\n",
    "    # The No rows\n",
    "    [['No', 'bystander']] * bystander_tab.loc['No', 'bystander'] +\n",
    "    [['No', 'rescuer']] * bystander_tab.loc['No', 'rescuer'] +\n",
    "    # The Yes rows\n",
    "    [['Yes', 'bystander']] * bystander_tab.loc['Yes', 'bystander'] +\n",
    "    [['Yes', 'rescuer']] * bystander_tab.loc['Yes', 'rescuer']\n",
    ")\n",
    "people = pd.DataFrame(row_lists,\n",
    "                      columns=['party_yn', 'respondent'])\n",
    "people"
   ]
  },
  {
   "cell_type": "markdown",
   "id": "bd738776",
   "metadata": {},
   "source": [
    "We showed that, indeed, crosstabulating the observations DataFrame replicates\n",
    "the original Counts DataFrame."
   ]
  },
  {
   "cell_type": "code",
   "execution_count": null,
   "id": "21746cb8",
   "metadata": {},
   "outputs": [],
   "source": [
    "# This corresponds to the input crosstab data frame.\n",
    "pd.crosstab(people['party_yn'], people['respondent'])"
   ]
  },
  {
   "cell_type": "markdown",
   "id": "d9674028",
   "metadata": {},
   "source": [
    "Your job is to make a general cell, that works on a counts DataFrame called\n",
    "`counts_df`.\n",
    "\n",
    "From `counts_df`, it should generate an observations DataFrame called\n",
    "`observations`.\n",
    "\n",
    "The columns of `observations` should be called 'label0', 'label0'.\n",
    "\n",
    "Your cell should work with any number of rows (labels) and columns in the\n",
    "input data frame.  The example above as 2 row labels and 2 column labels, but\n",
    "your cell should work for $m$ rows and $n$ columns, where $m$, $n$ can be any\n",
    "number.\n",
    "\n",
    "To do this, you may want to use *nested* `for` loops.   For example, consider\n",
    "the following:"
   ]
  },
  {
   "cell_type": "code",
   "execution_count": null,
   "id": "6192a018",
   "metadata": {},
   "outputs": [],
   "source": [
    "for row_label in ['one', 'two']:\n",
    "    for col_label in ['A', 'B']:\n",
    "        pair = [row_label, col_label]\n",
    "        print(pair)"
   ]
  },
  {
   "cell_type": "markdown",
   "id": "e2362718",
   "metadata": {},
   "source": [
    "Then have a look at the structure of the code we used above, to see if you can\n",
    "use a for loop like this to work on any counts table.\n",
    "\n",
    "Let's start by setting `counts_df` to have our example `bystander_tab`."
   ]
  },
  {
   "cell_type": "code",
   "execution_count": null,
   "id": "f70449bf",
   "metadata": {},
   "outputs": [],
   "source": [
    "counts_df = bystander_tab"
   ]
  },
  {
   "cell_type": "markdown",
   "id": "6f4db0a4",
   "metadata": {},
   "source": [
    "But - when you are ready (see below), then try uncommenting the code cell below\n",
    "(by deleting the `#` signs), to make a different, and more difficult\n",
    "`counts_df`."
   ]
  },
  {
   "cell_type": "code",
   "execution_count": null,
   "id": "87694b23",
   "metadata": {},
   "outputs": [],
   "source": [
    "# counts_df = pd.DataFrame([[10, 15, 20], [3, 7, 9], [1, 12, 19], [2, 22, 9]],\n",
    "#                        columns=['col0', 'col1', 'col2'],\n",
    "#                        index=list('ABCD'))"
   ]
  },
  {
   "cell_type": "markdown",
   "id": "658ff826",
   "metadata": {},
   "source": [
    "Now, in the next cell, write some code that will work for any $m$ by $n$ counts\n",
    "table, with any number of rows or columns.\n"
   ]
  },
  {
   "cell_type": "code",
   "execution_count": null,
   "id": "aaa9cd84",
   "metadata": {},
   "outputs": [],
   "source": [
    "#- Your code here\n",
    "...\n",
    "observations = ...\n",
    "# Show the first rows of the result\n",
    "observations[:10]"
   ]
  },
  {
   "cell_type": "markdown",
   "id": "fa261234",
   "metadata": {},
   "source": [
    "Check the result with a crosstab of the two columns:"
   ]
  },
  {
   "cell_type": "code",
   "execution_count": null,
   "id": "1a2fc983",
   "metadata": {},
   "outputs": [],
   "source": [
    "pd.crosstab(observations['label0'], observations['label1'])"
   ]
  },
  {
   "cell_type": "markdown",
   "id": "adf0866e",
   "metadata": {},
   "source": [
    "When that is working for the original 2 x 2 table, try uncommenting the more\n",
    "difficult table above, and rerunning."
   ]
  },
  {
   "cell_type": "markdown",
   "id": "6050d9a7",
   "metadata": {},
   "source": [
    "## Done.\n",
    "\n",
    "Congratulations, you're done with the assignment!  Be sure to:\n",
    "\n",
    "- **run all the tests** (the next cell has a shortcut for that).\n",
    "- **Save and Checkpoint** from the `File` menu."
   ]
  },
  {
   "cell_type": "code",
   "execution_count": null,
   "id": "d1aca3a2",
   "metadata": {},
   "outputs": [],
   "source": [
    "# For your convenience, you can run this cell to run all the tests at once!\n",
    "import os\n",
    "_ = [ok.grade(q[:-3]) for q in os.listdir(\"tests\") if q.startswith('q')]"
   ]
  }
 ],
 "metadata": {
  "jupytext": {
   "notebook_metadata_filter": "all,-language_info",
   "split_at_heading": true,
   "text_representation": {
    "extension": ".Rmd",
    "format_name": "rmarkdown",
    "format_version": "1.2",
    "jupytext_version": "1.14.1"
   }
  },
  "kernelspec": {
   "display_name": "Python 3 (ipykernel)",
   "language": "python",
   "name": "python3"
  }
 },
 "nbformat": 4,
 "nbformat_minor": 5
}
