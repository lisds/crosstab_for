{
 "cells": [
  {
   "cell_type": "markdown",
   "id": "9e0bf1eb",
   "metadata": {},
   "source": [
    "# Crosstabulation, but more general"
   ]
  },
  {
   "cell_type": "code",
   "execution_count": 1,
   "id": "3a6d4147",
   "metadata": {
    "execution": {
     "iopub.execute_input": "2023-01-30T13:20:00.609229Z",
     "iopub.status.busy": "2023-01-30T13:20:00.608918Z",
     "iopub.status.idle": "2023-01-30T13:20:00.972841Z",
     "shell.execute_reply": "2023-01-30T13:20:00.972460Z"
    }
   },
   "outputs": [],
   "source": [
    "# Don't change this cell; just run it.\n",
    "import numpy as np  # The array library.\n",
    "\n",
    "import pandas as pd\n",
    "# Safe setting for Pandas.  Needs Pandas version >= 1.5.\n",
    "pd.set_option('mode.copy_on_write', True)\n",
    "\n",
    "# The OKpy testing system.\n",
    "from client.api.notebook import Notebook\n",
    "ok = Notebook('crosstab_for.ok')"
   ]
  },
  {
   "cell_type": "markdown",
   "id": "fdc3931a",
   "metadata": {},
   "source": [
    "## A more general form\n",
    "\n",
    "The challenge is to write a general cell that will go from a Counts DataFrame,\n",
    "to an Observations DataFrame.\n",
    "\n",
    "Here's our example Counts DataFrame."
   ]
  },
  {
   "cell_type": "code",
   "execution_count": 2,
   "id": "aab77d06",
   "metadata": {
    "execution": {
     "iopub.execute_input": "2023-01-30T13:20:00.975155Z",
     "iopub.status.busy": "2023-01-30T13:20:00.974756Z",
     "iopub.status.idle": "2023-01-30T13:20:00.982654Z",
     "shell.execute_reply": "2023-01-30T13:20:00.982314Z"
    }
   },
   "outputs": [],
   "source": [
    "bystander_tab = pd.DataFrame([[64, 165],\n",
    "                              [7, 44]],\n",
    "                             columns=['bystander', 'rescuer'],\n",
    "                             index=['No', 'Yes'])\n",
    "bystander_tab"
   ]
  },
  {
   "cell_type": "markdown",
   "id": "834cb9e2",
   "metadata": {},
   "source": [
    "This is a cross-tabulation for which the raw material was an *observations*\n",
    "table / DataFrame.  That observations table had one row per person, two\n",
    "columns, where the first column has \"Yes\" or \"No\" for whether that person was a\n",
    "member of a political party, and the second has \"bystander\" or \"rescuer\".\n",
    "\n",
    "Here is the long-hand version of that, from the \"noble_politics\" page:"
   ]
  },
  {
   "cell_type": "code",
   "execution_count": 3,
   "id": "322f7e3c",
   "metadata": {
    "execution": {
     "iopub.execute_input": "2023-01-30T13:20:00.984384Z",
     "iopub.status.busy": "2023-01-30T13:20:00.984251Z",
     "iopub.status.idle": "2023-01-30T13:20:00.990296Z",
     "shell.execute_reply": "2023-01-30T13:20:00.989944Z"
    }
   },
   "outputs": [],
   "source": [
    "row_lists = (\n",
    "    # The No rows\n",
    "    [['No', 'bystander']] * bystander_tab.loc['No', 'bystander'] +\n",
    "    [['No', 'rescuer']] * bystander_tab.loc['No', 'rescuer'] +\n",
    "    # The Yes rows\n",
    "    [['Yes', 'bystander']] * bystander_tab.loc['Yes', 'bystander'] +\n",
    "    [['Yes', 'rescuer']] * bystander_tab.loc['Yes', 'rescuer']\n",
    ")\n",
    "people = pd.DataFrame(row_lists,\n",
    "                      columns=['party_yn', 'respondent'])\n",
    "people"
   ]
  },
  {
   "cell_type": "markdown",
   "id": "dbc26337",
   "metadata": {},
   "source": [
    "We showed that, indeed, crosstabulating the observations DataFrame replicates\n",
    "the original Counts DataFrame."
   ]
  },
  {
   "cell_type": "code",
   "execution_count": 4,
   "id": "a5a5d0d4",
   "metadata": {
    "execution": {
     "iopub.execute_input": "2023-01-30T13:20:00.992147Z",
     "iopub.status.busy": "2023-01-30T13:20:00.992001Z",
     "iopub.status.idle": "2023-01-30T13:20:01.000281Z",
     "shell.execute_reply": "2023-01-30T13:20:00.999965Z"
    }
   },
   "outputs": [],
   "source": [
    "# This corresponds to the input crosstab data frame.\n",
    "pd.crosstab(people['party_yn'], people['respondent'])"
   ]
  },
  {
   "cell_type": "markdown",
   "id": "2857206c",
   "metadata": {},
   "source": [
    "Your job is to make a general cell, that works on a counts DataFrame called\n",
    "`counts_df`.\n",
    "\n",
    "From `counts_df`, it should generate an observations DataFrame called\n",
    "`observations`.\n",
    "\n",
    "The columns of `observations` should be called 'label0', 'label0'.\n",
    "\n",
    "Your cell should work with any number of rows (labels) and columns in the\n",
    "input data frame.  The example above as 2 row labels and 2 column labels, but\n",
    "your cell should work for $m$ rows and $n$ columns, where $m$, $n$ can be any\n",
    "number.\n",
    "\n",
    "To do this, you may want to use *nested* `for` loops.   For example, consider\n",
    "the following:"
   ]
  },
  {
   "cell_type": "code",
   "execution_count": 5,
   "id": "e039fa2f",
   "metadata": {
    "execution": {
     "iopub.execute_input": "2023-01-30T13:20:01.002201Z",
     "iopub.status.busy": "2023-01-30T13:20:01.002054Z",
     "iopub.status.idle": "2023-01-30T13:20:01.005729Z",
     "shell.execute_reply": "2023-01-30T13:20:01.005340Z"
    }
   },
   "outputs": [],
   "source": [
    "for row_label in ['one', 'two']:\n",
    "    for col_label in ['A', 'B']:\n",
    "        pair = [row_label, col_label]\n",
    "        print(pair)"
   ]
  },
  {
   "cell_type": "markdown",
   "id": "2103876f",
   "metadata": {},
   "source": [
    "Then have a look at the structure of the code we used above, to see if you can\n",
    "use a for loop like this to work on any counts table.\n",
    "\n",
    "Let's start by setting `counts_df` to have our example `bystander_tab`."
   ]
  },
  {
   "cell_type": "code",
   "execution_count": 6,
   "id": "be625b32",
   "metadata": {
    "execution": {
     "iopub.execute_input": "2023-01-30T13:20:01.009225Z",
     "iopub.status.busy": "2023-01-30T13:20:01.009081Z",
     "iopub.status.idle": "2023-01-30T13:20:01.011020Z",
     "shell.execute_reply": "2023-01-30T13:20:01.010655Z"
    }
   },
   "outputs": [],
   "source": [
    "counts_df = bystander_tab"
   ]
  },
  {
   "cell_type": "markdown",
   "id": "b62d93a3",
   "metadata": {},
   "source": [
    "But - when you are ready (see below), then try uncommenting the code cell below\n",
    "(by deleting the `#` signs), to make a different, and more difficult\n",
    "`counts_df`."
   ]
  },
  {
   "cell_type": "code",
   "execution_count": 7,
   "id": "61999238",
   "metadata": {
    "execution": {
     "iopub.execute_input": "2023-01-30T13:20:01.012866Z",
     "iopub.status.busy": "2023-01-30T13:20:01.012729Z",
     "iopub.status.idle": "2023-01-30T13:20:01.014581Z",
     "shell.execute_reply": "2023-01-30T13:20:01.014269Z"
    }
   },
   "outputs": [],
   "source": [
    "# counts_df = pd.DataFrame([[10, 15, 20], [3, 7, 9], [1, 12, 19], [2, 22, 9]],\n",
    "#                        columns=['col0', 'col1', 'col2'],\n",
    "#                        index=list('ABCD'))"
   ]
  },
  {
   "cell_type": "markdown",
   "id": "d06fb98f",
   "metadata": {},
   "source": [
    "Now, in the next cell, write some code that will work for any $m$ by $n$ counts\n",
    "table, with any number of rows or columns.\n"
   ]
  },
  {
   "cell_type": "code",
   "execution_count": 8,
   "id": "3ac089de",
   "metadata": {
    "execution": {
     "iopub.execute_input": "2023-01-30T13:20:01.016276Z",
     "iopub.status.busy": "2023-01-30T13:20:01.016148Z",
     "iopub.status.idle": "2023-01-30T13:20:01.021138Z",
     "shell.execute_reply": "2023-01-30T13:20:01.020793Z"
    }
   },
   "outputs": [],
   "source": [
    "#- Your code here\n",
    "row_lists = []\n",
    "for row_label in counts_df.index:\n",
    "    for col_label in counts_df.columns:\n",
    "        counts = counts_df.loc[row_label, col_label]\n",
    "        row_lists = row_lists + [[row_label, col_label]] * counts\n",
    "observations = pd.DataFrame(row_lists,\n",
    "    columns=['label0', 'label1'])\n",
    "# Show the first rows of the result\n",
    "observations[:10]"
   ]
  },
  {
   "cell_type": "markdown",
   "id": "0bf689bd",
   "metadata": {},
   "source": [
    "Check the result with a crosstab of the two columns:"
   ]
  },
  {
   "cell_type": "code",
   "execution_count": 9,
   "id": "66a8ef82",
   "metadata": {
    "execution": {
     "iopub.execute_input": "2023-01-30T13:20:01.022967Z",
     "iopub.status.busy": "2023-01-30T13:20:01.022830Z",
     "iopub.status.idle": "2023-01-30T13:20:01.029843Z",
     "shell.execute_reply": "2023-01-30T13:20:01.029519Z"
    }
   },
   "outputs": [],
   "source": [
    "pd.crosstab(observations['label0'], observations['label1'])"
   ]
  },
  {
   "cell_type": "markdown",
   "id": "ce288ff5",
   "metadata": {},
   "source": [
    "When that is working for the original 2 x 2 table, try uncommenting the more\n",
    "difficult table above, and rerunning."
   ]
  },
  {
   "cell_type": "markdown",
   "id": "a17760f3",
   "metadata": {},
   "source": [
    "## Done.\n",
    "\n",
    "Congratulations, you're done with the assignment!  Be sure to:\n",
    "\n",
    "- **run all the tests** (the next cell has a shortcut for that).\n",
    "- **Save and Checkpoint** from the `File` menu."
   ]
  },
  {
   "cell_type": "code",
   "execution_count": 10,
   "id": "9278c558",
   "metadata": {
    "execution": {
     "iopub.execute_input": "2023-01-30T13:20:01.031675Z",
     "iopub.status.busy": "2023-01-30T13:20:01.031526Z",
     "iopub.status.idle": "2023-01-30T13:20:01.033831Z",
     "shell.execute_reply": "2023-01-30T13:20:01.033523Z"
    }
   },
   "outputs": [],
   "source": [
    "# For your convenience, you can run this cell to run all the tests at once!\n",
    "import os\n",
    "_ = [ok.grade(q[:-3]) for q in os.listdir(\"tests\") if q.startswith('q')]"
   ]
  }
 ],
 "metadata": {
  "jupytext": {
   "notebook_metadata_filter": "all,-language_info",
   "split_at_heading": true,
   "text_representation": {
    "extension": ".Rmd",
    "format_name": "rmarkdown",
    "format_version": "1.2",
    "jupytext_version": "1.14.1"
   }
  },
  "kernelspec": {
   "display_name": "Python 3 (ipykernel)",
   "language": "python",
   "name": "python3"
  },
  "language_info": {
   "codemirror_mode": {
    "name": "ipython",
    "version": 3
   },
   "file_extension": ".py",
   "mimetype": "text/x-python",
   "name": "python",
   "nbconvert_exporter": "python",
   "pygments_lexer": "ipython3",
   "version": "3.10.9"
  }
 },
 "nbformat": 4,
 "nbformat_minor": 5
}
